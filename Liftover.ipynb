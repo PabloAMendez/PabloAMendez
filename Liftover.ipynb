{
  "nbformat": 4,
  "nbformat_minor": 0,
  "metadata": {
    "colab": {
      "provenance": [],
      "authorship_tag": "ABX9TyOvVjqz1YBK8oHc0MiWECg9",
      "include_colab_link": true
    },
    "kernelspec": {
      "name": "python3",
      "display_name": "Python 3"
    },
    "language_info": {
      "name": "python"
    }
  },
  "cells": [
    {
      "cell_type": "markdown",
      "metadata": {
        "id": "view-in-github",
        "colab_type": "text"
      },
      "source": [
        "<a href=\"https://colab.research.google.com/github/PabloAMendez/PabloAMendez/blob/main/Liftover.ipynb\" target=\"_parent\"><img src=\"https://colab.research.google.com/assets/colab-badge.svg\" alt=\"Open In Colab\"/></a>"
      ]
    },
    {
      "cell_type": "code",
      "execution_count": 7,
      "metadata": {
        "colab": {
          "base_uri": "https://localhost:8080/"
        },
        "id": "kncJohoXrcyI",
        "outputId": "9ab84443-1045-45f8-ce46-7b8c084eb459"
      },
      "outputs": [
        {
          "output_type": "stream",
          "name": "stdout",
          "text": [
            "Requirement already satisfied: CrossMap in /usr/local/lib/python3.11/dist-packages (0.7.3)\n",
            "Requirement already satisfied: pysam in /usr/local/lib/python3.11/dist-packages (from CrossMap) (0.23.0)\n",
            "Requirement already satisfied: bx-python in /usr/local/lib/python3.11/dist-packages (from CrossMap) (0.13.0)\n",
            "Requirement already satisfied: pyBigWig in /usr/local/lib/python3.11/dist-packages (from CrossMap) (0.3.24)\n",
            "Requirement already satisfied: numpy in /usr/local/lib/python3.11/dist-packages (from bx-python->CrossMap) (1.26.4)\n",
            "Requirement already satisfied: pyparsing in /usr/local/lib/python3.11/dist-packages (from bx-python->CrossMap) (3.2.1)\n"
          ]
        }
      ],
      "source": [
        "!pip install CrossMap"
      ]
    },
    {
      "cell_type": "code",
      "source": [
        "!wget -qO- \"http://hgdownload.cse.ucsc.edu/goldenPath/hg38/liftOver/hg38ToHg19.over.chain.gz\" | gunzip -c > hg38ToHg19.over.chain"
      ],
      "metadata": {
        "id": "t6f7GyIJsPQf"
      },
      "execution_count": 3,
      "outputs": []
    },
    {
      "cell_type": "code",
      "source": [
        "!wget -q \"http://hgdownload.soe.ucsc.edu/goldenPath/hg19/bigZips/hg19.fa.gz\" -O hg19.fa.gz"
      ],
      "metadata": {
        "id": "pgwDD7lEsQZr"
      },
      "execution_count": 4,
      "outputs": []
    },
    {
      "cell_type": "code",
      "source": [
        "!gunzip -c hg19.fa.gz > reference_GRCh37.fasta"
      ],
      "metadata": {
        "id": "x8jT3z_xsVjB"
      },
      "execution_count": 5,
      "outputs": []
    },
    {
      "cell_type": "code",
      "source": [
        "!pip show CrossMap"
      ],
      "metadata": {
        "colab": {
          "base_uri": "https://localhost:8080/"
        },
        "id": "cIFfQ7W9thwg",
        "outputId": "b5854f3c-eed9-473a-b6eb-57fd4e67b53f"
      },
      "execution_count": 11,
      "outputs": [
        {
          "output_type": "stream",
          "name": "stdout",
          "text": [
            "Name: CrossMap\n",
            "Version: 0.7.3\n",
            "Summary: CrossMap -- Lift over genomics coordinates between assemblies.\n",
            "Home-page: \n",
            "Author: \n",
            "Author-email: Liguo Wang <wangliguo78@gmail.com>\n",
            "License: CrossMap is a program to lift over genome coordinates between different assembly versions.\n",
            "    Copyright (C) 2024  Liguo Wang\n",
            "\n",
            "    This program is free software: you can redistribute it and/or modify\n",
            "    it under the terms of the GNU General Public License as published by\n",
            "    the Free Software Foundation, either version 3 of the License, or\n",
            "    (at your option) any later version.\n",
            "\n",
            "    This program is distributed in the hope that it will be useful,\n",
            "    but WITHOUT ANY WARRANTY; without even the implied warranty of\n",
            "    MERCHANTABILITY or FITNESS FOR A PARTICULAR PURPOSE.  See the\n",
            "    GNU General Public License for more details.\n",
            "\n",
            "    You should have received a copy of the GNU General Public License\n",
            "    along with this program.  If not, see <https://www.gnu.org/licenses/>.\n",
            "\n",
            "Location: /usr/local/lib/python3.11/dist-packages\n",
            "Requires: bx-python, pyBigWig, pysam\n",
            "Required-by: \n"
          ]
        }
      ]
    },
    {
      "cell_type": "code",
      "source": [
        "!which CrossMap"
      ],
      "metadata": {
        "colab": {
          "base_uri": "https://localhost:8080/"
        },
        "id": "7KaPiezst6Fp",
        "outputId": "3db42042-f943-4bde-9be7-ae528f490eba"
      },
      "execution_count": 16,
      "outputs": [
        {
          "output_type": "stream",
          "name": "stdout",
          "text": [
            "/usr/local/bin/CrossMap\n"
          ]
        }
      ]
    },
    {
      "cell_type": "code",
      "source": [
        "!python /usr/local/bin/CrossMap vcf hg38ToHg19.over.chain /content/g734-1.vcf.vcf reference_GRCh37.fasta /content/g734-1.GRCh37.vcf"
      ],
      "metadata": {
        "colab": {
          "base_uri": "https://localhost:8080/"
        },
        "id": "ZPMXsSYlt03l",
        "outputId": "d1d271fe-7d0b-42ef-e549-bf5ff1ab0e6e"
      },
      "execution_count": 17,
      "outputs": [
        {
          "output_type": "stream",
          "name": "stdout",
          "text": [
            "2025-02-08 10:39:32 [INFO]  Read the chain file \"hg38ToHg19.over.chain\" \n",
            "2025-02-08 10:39:33 [INFO]  Filter out variants [reference_allele == alternative_allele] ...\n",
            "2025-02-08 10:39:33 [INFO]  Creating index for: reference_GRCh37.fasta\n",
            "2025-02-08 10:39:44 [INFO]  Updating contig field ... \n",
            "2025-02-08 10:39:44 [INFO]  Lifting over ... \n",
            "2025-02-08 10:39:45 [INFO]  Total entries: 38972\n",
            "2025-02-08 10:39:45 [INFO]  Failed to map: 107\n"
          ]
        }
      ]
    }
  ]
}